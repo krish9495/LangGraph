{
 "cells": [
  {
   "cell_type": "code",
   "execution_count": 41,
   "id": "9233480b",
   "metadata": {},
   "outputs": [],
   "source": [
    "from langgraph.graph import StateGraph,START,END\n",
    "from typing import Annotated,Literal,TypedDict\n",
    "from dotenv import load_dotenv\n",
    "from langchain_core.messages import HumanMessage,SystemMessage\n",
    "from langchain_openai import ChatOpenAI\n",
    "import operator"
   ]
  },
  {
   "cell_type": "code",
   "execution_count": 2,
   "id": "9cb7c485",
   "metadata": {},
   "outputs": [],
   "source": [
    "import os"
   ]
  },
  {
   "cell_type": "code",
   "execution_count": 3,
   "id": "8b932ca2",
   "metadata": {},
   "outputs": [
    {
     "data": {
      "text/plain": [
       "True"
      ]
     },
     "execution_count": 3,
     "metadata": {},
     "output_type": "execute_result"
    }
   ],
   "source": [
    "load_dotenv()"
   ]
  },
  {
   "cell_type": "code",
   "execution_count": 6,
   "id": "9aec8994",
   "metadata": {},
   "outputs": [],
   "source": [
    "generator_llm=ChatOpenAI(\n",
    "    model=\"mistralai/mistral-small-3.2-24b-instruct:free\",\n",
    "    api_key=os.getenv(\"OPENROUTER_API_KEY\"),\n",
    "    base_url=\"https://openrouter.ai/api/v1\"\n",
    ")"
   ]
  },
  {
   "cell_type": "code",
   "execution_count": 7,
   "id": "7cc7a2e0",
   "metadata": {},
   "outputs": [],
   "source": [
    "evaluator_llm=ChatOpenAI(\n",
    "    model=\"mistralai/mistral-small-3.2-24b-instruct:free\",\n",
    "    api_key=os.getenv(\"OPENROUTER_API_KEY\"),\n",
    "    base_url=\"https://openrouter.ai/api/v1\"\n",
    ")"
   ]
  },
  {
   "cell_type": "code",
   "execution_count": 8,
   "id": "7b617a1c",
   "metadata": {},
   "outputs": [],
   "source": [
    "optimizer_llm=ChatOpenAI(\n",
    "    model=\"mistralai/mistral-small-3.2-24b-instruct:free\",\n",
    "    api_key=os.getenv(\"OPENROUTER_API_KEY\"),\n",
    "    base_url=\"https://openrouter.ai/api/v1\"\n",
    ")"
   ]
  },
  {
   "cell_type": "code",
   "execution_count": 42,
   "id": "6ad713cb",
   "metadata": {},
   "outputs": [],
   "source": [
    "#state\n",
    "class TweetState(TypedDict):\n",
    "    topic:str\n",
    "    tweet:str\n",
    "    evaluation:Literal[\"approved\",\"needs_improvement\"]\n",
    "    feedback:str\n",
    "    iteration:int\n",
    "    max_iteration:int \n",
    "\n",
    "    tweet_history:Annotated[list[str],operator.add]\n",
    "    feedback_history:Annotated[list[str],operator.add]"
   ]
  },
  {
   "cell_type": "code",
   "execution_count": 18,
   "id": "b985fcc5",
   "metadata": {},
   "outputs": [],
   "source": [
    "from pydantic import BaseModel,Field\n",
    "\n",
    "class TweetEvaluation_schema(BaseModel):\n",
    "    evaluation:Literal[\"approved\",\"needs_imporvement\"]=Field(...,description=\"Final Evaluation Result\")\n",
    "    feedback:str=Field(...,description=\"feedback for the tweet\")"
   ]
  },
  {
   "cell_type": "code",
   "execution_count": 19,
   "id": "5df81126",
   "metadata": {},
   "outputs": [],
   "source": [
    "structed_evaluator_llm=evaluator_llm.with_structured_output(TweetEvaluation_schema)"
   ]
  },
  {
   "cell_type": "code",
   "execution_count": 53,
   "id": "c4106077",
   "metadata": {},
   "outputs": [],
   "source": [
    "def generate_tweet(state:TweetState):\n",
    "\n",
    "    #prompt\n",
    "    messages = [\n",
    "        SystemMessage(content=\"You are a funny and clever Twitter/X influencer.\"),\n",
    "        HumanMessage(content=f\"\"\"\n",
    "Write a short, original, and hilarious tweet on the topic: \"{state['topic']}\".\n",
    "\n",
    "Rules:\n",
    "- Do NOT use question-answer format.\n",
    "- Max 280 characters.\n",
    "- Use observational humor, irony, sarcasm, or cultural references.\n",
    "- Think in meme logic, punchlines, or relatable takes.\n",
    "- Use simple, day to day english\n",
    "\"\"\")\n",
    "    ]\n",
    "\n",
    "    #send to generator llm\n",
    "    response=generator_llm.invoke(messages).content\n",
    "\n",
    "    #return response\n",
    "    return {'tweet':response,'tweet_history':[response]} "
   ]
  },
  {
   "cell_type": "code",
   "execution_count": 54,
   "id": "f416ba05",
   "metadata": {},
   "outputs": [],
   "source": [
    "def evaluate_tweet(state:TweetState):\n",
    "\n",
    "\n",
    "    #prompt\n",
    "\n",
    "    messages = [\n",
    "    SystemMessage(content=\"You are a ruthless, no-laugh-given Twitter critic. You evaluate tweets based on humor, originality, virality, and tweet format.\"),\n",
    "    HumanMessage(content=f\"\"\"\n",
    "Evaluate the following tweet:\n",
    "\n",
    "Tweet: \"{state['tweet']}\"\n",
    "\n",
    "Use the criteria below to evaluate the tweet:\n",
    "\n",
    "1. Originality – Is this fresh, or have you seen it a hundred times before?  \n",
    "2. Humor – Did it genuinely make you smile, laugh, or chuckle?  \n",
    "3. Punchiness – Is it short, sharp, and scroll-stopping?  \n",
    "4. Virality Potential – Would people retweet or share it?  \n",
    "5. Format – Is it a well-formed tweet (not a setup-punchline joke, not a Q&A joke, and under 280 characters)?\n",
    "\n",
    "Auto-reject if:\n",
    "- It's written in question-answer format (e.g., \"Why did...\" or \"What happens when...\")\n",
    "- It exceeds 280 characters\n",
    "- It reads like a traditional setup-punchline joke\n",
    "- Dont end with generic, throwaway, or deflating lines that weaken the humor (e.g., “Masterpieces of the auntie-uncle universe” or vague summaries)\n",
    "\n",
    "### Respond ONLY in structured format:\n",
    "- evaluation: \"approved\" or \"needs_improvement\"  \n",
    "- feedback: One paragraph explaining the strengths and weaknesses \n",
    "\"\"\")\n",
    "]\n",
    "\n",
    "\n",
    "    response=structed_evaluator_llm.invoke(messages)\n",
    "    return {'evaluation':response.evaluation,'feedback':response.feedback,'feedback_history':[response]}\n"
   ]
  },
  {
   "cell_type": "code",
   "execution_count": 55,
   "id": "9f2246e0",
   "metadata": {},
   "outputs": [],
   "source": [
    "def optimize_tweet(state:TweetState):\n",
    "     messages = [\n",
    "        SystemMessage(content=\"You punch up tweets for virality and humor based on given feedback.\"),\n",
    "        HumanMessage(content=f\"\"\"\n",
    "Improve the tweet based on this feedback:\n",
    "\"{state['feedback']}\"\n",
    "\n",
    "Topic: \"{state['topic']}\"\n",
    "Original Tweet:\n",
    "{state['tweet']}\n",
    "\n",
    "Re-write it as a short, viral-worthy tweet. Avoid Q&A style and stay under 280 characters.\n",
    "\"\"\")\n",
    "    ]\n",
    "     \n",
    "     response=optimizer_llm.invoke(messages).content\n",
    "     iteration=state['iteration']+1\n",
    "\n",
    "     return {'tweet':response,'iteration':iteration,'tweet_history':[response]}"
   ]
  },
  {
   "cell_type": "code",
   "execution_count": 56,
   "id": "e1819e37",
   "metadata": {},
   "outputs": [],
   "source": [
    "def route_evaluation(state:TweetState):\n",
    "\n",
    "    if state['evaluation']=='approved' or state['iteration']>=state['max_iteration']:\n",
    "        return 'approved'\n",
    "    else:\n",
    "        return 'needs_improvements'"
   ]
  },
  {
   "cell_type": "code",
   "execution_count": 57,
   "id": "9669233a",
   "metadata": {},
   "outputs": [],
   "source": [
    "graph=StateGraph(TweetState)\n",
    "\n",
    "graph.add_node('generate',generate_tweet)\n",
    "graph.add_node('evaluate',evaluate_tweet)\n",
    "graph.add_node('optimize',optimize_tweet)\n",
    "\n",
    "graph.add_edge(START,'generate')\n",
    "graph.add_edge('generate','evaluate')\n",
    "graph.add_conditional_edges('evaluate',route_evaluation,{'approved':END,'needs_improvements':'optimize'})\n",
    "graph.add_edge('optimize','evaluate')\n",
    "\n",
    "workflow=graph.compile()"
   ]
  },
  {
   "cell_type": "code",
   "execution_count": 58,
   "id": "a7890601",
   "metadata": {},
   "outputs": [
    {
     "data": {
      "image/png": "[encoded data removed]",
      "text/plain": [
       "<langgraph.graph.state.CompiledStateGraph object at 0x00000228F50777D0>"
      ]
     },
     "execution_count": 58,
     "metadata": {},
     "output_type": "execute_result"
    }
   ],
   "source": [
    "workflow"
   ]
  },
  {
   "cell_type": "code",
   "execution_count": 59,
   "id": "f50d1cb6",
   "metadata": {},
   "outputs": [],
   "source": [
    "initial_state={\n",
    "    'topic':'rahul gandhi',\n",
    "    'iteration':1,\n",
    "    'max_iteration':5\n",
    "}"
   ]
  },
  {
   "cell_type": "code",
   "execution_count": 60,
   "id": "175ca953",
   "metadata": {},
   "outputs": [
    {
     "data": {
      "text/plain": [
       "{'topic': 'rahul gandhi',\n",
       " 'tweet': '\"Rahul Gandhi trying to explain inflation: \\'Imagine you have ₹100, then...\\' Me: *pulls out my ₹500-onion meme* \\'Ah, now you understand my pain.\\'\"',\n",
       " 'evaluation': 'approved',\n",
       " 'feedback': \"This tweet is a solid mix of originality, humor, and relevance. The reference to '₹500-onion meme' contextualizes the discussion with a known Indian issue, making it relatable. The humor lies in the abrupt yet effective comparison, which is likely to resonate with those familiar with the meme. The tweet stops short at a point where the humor hits, avoiding any deflating lines. The format is concise and avoids the typical setup-punchline structure, making it less predictable. It's well within the 280-character limit and feels like it could easily be shared, increasing its virality potential.\",\n",
       " 'iteration': 1,\n",
       " 'max_iteration': 5,\n",
       " 'tweet_history': ['\"Rahul Gandhi trying to explain inflation: \\'Imagine you have ₹100, then...\\' Me: *pulls out my ₹500-onion meme* \\'Ah, now you understand my pain.\\'\"'],\n",
       " 'feedback_history': [TweetEvaluation_schema(evaluation='approved', feedback=\"This tweet is a solid mix of originality, humor, and relevance. The reference to '₹500-onion meme' contextualizes the discussion with a known Indian issue, making it relatable. The humor lies in the abrupt yet effective comparison, which is likely to resonate with those familiar with the meme. The tweet stops short at a point where the humor hits, avoiding any deflating lines. The format is concise and avoids the typical setup-punchline structure, making it less predictable. It's well within the 280-character limit and feels like it could easily be shared, increasing its virality potential.\")]}"
      ]
     },
     "execution_count": 60,
     "metadata": {},
     "output_type": "execute_result"
    }
   ],
   "source": [
    "workflow.invoke(initial_state)"
   ]
  },
  {
   "cell_type": "code",
   "execution_count": null,
   "id": "febadaef",
   "metadata": {},
   "outputs": [],
   "source": []
  },
  {
   "cell_type": "code",
   "execution_count": null,
   "id": "a93812c2",
   "metadata": {},
   "outputs": [],
   "source": []
  }
 ],
 "metadata": {
  "kernelspec": {
   "display_name": "myenv",
   "language": "python",
   "name": "python3"
  },
  "language_info": {
   "codemirror_mode": {
    "name": "ipython",
    "version": 3
   },
   "file_extension": ".py",
   "mimetype": "text/x-python",
   "name": "python",
   "nbconvert_exporter": "python",
   "pygments_lexer": "ipython3",
   "version": "3.12.5"
  }
 },
 "nbformat": 4,
 "nbformat_minor": 5
}
