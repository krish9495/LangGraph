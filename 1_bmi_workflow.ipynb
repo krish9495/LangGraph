{
 "cells": [
  {
   "cell_type": "code",
   "execution_count": 5,
   "id": "eac316f4",
   "metadata": {},
   "outputs": [],
   "source": [
    "from langgraph.graph import StateGraph,START,END\n",
    "from typing import TypedDict"
   ]
  },
  {
   "cell_type": "code",
   "execution_count": 42,
   "id": "6a8cebe6",
   "metadata": {},
   "outputs": [],
   "source": [
    "#define State\n",
    "\n",
    "class BMIState(TypedDict):\n",
    "\n",
    "    weight_kg:float\n",
    "    height_m:float\n",
    "    bmi:float\n",
    "    fitness:str"
   ]
  },
  {
   "cell_type": "code",
   "execution_count": 43,
   "id": "e68fd668",
   "metadata": {},
   "outputs": [],
   "source": [
    "def calculate_bmi(state:BMIState) -> BMIState:\n",
    "\n",
    "    weight=state['weight_kg']\n",
    "    height=state['height_m'] \n",
    "\n",
    "    bmi=weight/(height**2)\n",
    "\n",
    "    state['bmi']=round(bmi,2)\n",
    "\n",
    "    return state\n"
   ]
  },
  {
   "cell_type": "code",
   "execution_count": 44,
   "id": "f0361127",
   "metadata": {},
   "outputs": [],
   "source": [
    "def judge_fit(state: BMIState) -> BMIState:\n",
    "    print(\"Judge Fit called with BMI:\", state.get('bmi'))  # Debug line\n",
    "\n",
    "    bmi = state.get('bmi')\n",
    "\n",
    "    if bmi is None:\n",
    "        state['fitness'] = 'unknown'\n",
    "    elif bmi < 18.5:\n",
    "        state['fitness'] = 'fit hai boss'\n",
    "    elif 18.5 <= bmi < 25:\n",
    "        state['fitness'] = 'obese'\n",
    "    else:\n",
    "        state['fitness'] = 'fatty'\n",
    "\n",
    "    return state\n"
   ]
  },
  {
   "cell_type": "code",
   "execution_count": 45,
   "id": "8b1ed3ba",
   "metadata": {},
   "outputs": [],
   "source": [
    "#define your graph\n",
    "\n",
    "graph=StateGraph(BMIState)\n",
    "\n",
    "\n",
    "#add nodes to your graph\n",
    "graph.add_node('calculate_bmi',calculate_bmi)\n",
    "graph.add_node('judge_fit',judge_fit)\n",
    "\n",
    "\n",
    "#add edges to your graph\n",
    "graph.add_edge(START,'calculate_bmi')\n",
    "graph.add_edge('calculate_bmi','judge_fit')\n",
    "graph.add_edge('judge_fit',END)\n",
    "\n",
    "#compile the graph\n",
    "\n",
    "workflow=graph.compile()\n"
   ]
  },
  {
   "cell_type": "code",
   "execution_count": 46,
   "id": "d50d37f3",
   "metadata": {},
   "outputs": [
    {
     "name": "stdout",
     "output_type": "stream",
     "text": [
      "Judge Fit called with BMI: 26.73\n"
     ]
    }
   ],
   "source": [
    "#execute the graph\n",
    "\n",
    "output_state=workflow.invoke({'weight_kg':80,'height_m':1.73})"
   ]
  },
  {
   "cell_type": "code",
   "execution_count": 47,
   "id": "94d9dfb9",
   "metadata": {},
   "outputs": [
    {
     "name": "stdout",
     "output_type": "stream",
     "text": [
      "{'weight_kg': 80, 'height_m': 1.73, 'bmi': 26.73, 'fitness': 'fatty'}\n"
     ]
    }
   ],
   "source": [
    "print(output_state)"
   ]
  },
  {
   "cell_type": "code",
   "execution_count": 33,
   "id": "adbc295a",
   "metadata": {},
   "outputs": [
    {
     "data": {
      "image/png": "[encoded data removed]",
      "text/plain": [
       "<IPython.core.display.Image object>"
      ]
     },
     "execution_count": 33,
     "metadata": {},
     "output_type": "execute_result"
    }
   ],
   "source": [
    "from IPython.display import Image\n",
    "Image(workflow.get_graph().draw_mermaid_png())"
   ]
  },
  {
   "cell_type": "code",
   "execution_count": null,
   "id": "01ed2de7",
   "metadata": {},
   "outputs": [],
   "source": []
  },
  {
   "cell_type": "code",
   "execution_count": null,
   "id": "266d4bfd",
   "metadata": {},
   "outputs": [],
   "source": []
  }
 ],
 "metadata": {
  "kernelspec": {
   "display_name": "myenv",
   "language": "python",
   "name": "python3"
  },
  "language_info": {
   "codemirror_mode": {
    "name": "ipython",
    "version": 3
   },
   "file_extension": ".py",
   "mimetype": "text/x-python",
   "name": "python",
   "nbconvert_exporter": "python",
   "pygments_lexer": "ipython3",
   "version": "3.12.5"
  }
 },
 "nbformat": 4,
 "nbformat_minor": 5
}
