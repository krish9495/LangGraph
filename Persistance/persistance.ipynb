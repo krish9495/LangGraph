{
 "cells": [
  {
   "cell_type": "code",
   "execution_count": 11,
   "id": "1e63e232",
   "metadata": {},
   "outputs": [],
   "source": [
    "from langgraph.graph import StateGraph,END,START\n",
    "from typing import TypedDict\n",
    "from langchain_openai import ChatOpenAI\n",
    "from dotenv import load_dotenv\n",
    "from langgraph.checkpoint.memory import InMemorySaver\n",
    "import os\n"
   ]
  },
  {
   "cell_type": "code",
   "execution_count": 3,
   "id": "57260973",
   "metadata": {},
   "outputs": [
    {
     "data": {
      "text/plain": [
       "True"
      ]
     },
     "execution_count": 3,
     "metadata": {},
     "output_type": "execute_result"
    }
   ],
   "source": [
    "load_dotenv()\n"
   ]
  },
  {
   "cell_type": "code",
   "execution_count": 6,
   "id": "3644b57f",
   "metadata": {},
   "outputs": [],
   "source": [
    "llm=ChatOpenAI(\n",
    "    model='deepseek/deepseek-chat-v3-0324:free',\n",
    "    api_key=os.environ['OPENROUTER_API_KEY'],\n",
    "    base_url='https://openrouter.ai/api/v1',\n",
    "    temperature=0.7\n",
    ")\n"
   ]
  },
  {
   "cell_type": "code",
   "execution_count": 9,
   "id": "d4669d7a",
   "metadata": {},
   "outputs": [],
   "source": [
    "class JokeState(TypedDict):\n",
    "    topic:str\n",
    "    joke:str\n",
    "    explanation:str"
   ]
  },
  {
   "cell_type": "code",
   "execution_count": 13,
   "id": "f62e8c54",
   "metadata": {},
   "outputs": [],
   "source": [
    "def generate_joke(state:JokeState):\n",
    "    prompt=f'generate a joke on the topic {state['topic']}'\n",
    "    response=llm.invoke(prompt).content\n",
    "\n",
    "    return {'joke':response}\n"
   ]
  },
  {
   "cell_type": "code",
   "execution_count": 14,
   "id": "216d6f30",
   "metadata": {},
   "outputs": [],
   "source": [
    "def generate_explanation(state:JokeState):\n",
    "    prompt=f'Write the explanation on the given joke - {state[\"joke\"]}'\n",
    "    response=llm.invoke(prompt).content\n",
    "\n",
    "    return {'explanation':response}"
   ]
  },
  {
   "cell_type": "code",
   "execution_count": 16,
   "id": "2f390119",
   "metadata": {},
   "outputs": [],
   "source": [
    "graph=StateGraph(JokeState)\n",
    "\n",
    "graph.add_node('generate_joke',generate_joke)\n",
    "graph.add_node('generate_explanation',generate_explanation)\n",
    "\n",
    "graph.add_edge(START,'generate_joke')\n",
    "graph.add_edge('generate_joke','generate_explanation')\n",
    "graph.add_edge('generate_explanation',END)\n",
    "\n",
    "checkpointer=InMemorySaver()\n",
    "\n",
    "workflow=graph.compile(checkpointer=checkpointer)"
   ]
  },
  {
   "cell_type": "code",
   "execution_count": 17,
   "id": "76b016f0",
   "metadata": {},
   "outputs": [
    {
     "data": {
      "image/png": "[encoded data removed]",
      "text/plain": [
       "<langgraph.graph.state.CompiledStateGraph object at 0x000001D30886F4D0>"
      ]
     },
     "execution_count": 17,
     "metadata": {},
     "output_type": "execute_result"
    }
   ],
   "source": [
    "workflow"
   ]
  },
  {
   "cell_type": "code",
   "execution_count": 19,
   "id": "b29cbcc9",
   "metadata": {},
   "outputs": [
    {
     "data": {
      "text/plain": [
       "{'topic': 'pizza',\n",
       " 'joke': 'Here\\'s a cheesy one for you:  \\n\\n**Why did the pizza maker go to therapy?**  \\nBecause he couldn’t stop *kneading* validation! 🍕😄  \\n\\n(Or if you prefer a punny one-liner: **\"I told a pizza joke, but it was too *crusty*—no one could handle the *cheese*!\"**)  \\n\\nLet me know if you want a different style!',\n",
       " 'explanation': '### Explanation of the Joke:\\n\\n1. **\"Why did the pizza maker go to therapy? Because he couldn’t stop *kneading* validation!\"**  \\n   - **Wordplay**: The pun hinges on the double meaning of \"kneading.\"  \\n     - In pizza making, *kneading* refers to the process of working dough to develop gluten (a crucial step in making pizza crust).  \\n     - In a psychological context, *needing* validation means seeking approval or reassurance from others.  \\n   - **Humor**: The joke combines the literal action of a pizza maker (kneading dough) with the metaphorical idea of emotional neediness, creating a playful twist. The therapist is humorously \"treating\" the pizza maker\\'s excessive dough-kneading as if it were an emotional issue.  \\n   - **Visual cue**: The pizza emoji (🍕) reinforces the theme.  \\n\\n2. **Alternate one-liner: \"I told a pizza joke, but it was too *crusty*—no one could handle the *cheese*!\"**  \\n   - **Wordplay**:  \\n     - *Crusty*: Literally refers to pizza crust, but colloquially means \"grumpy\" or \"old-fashioned.\"  \\n     - *Handle the cheese*: Plays on the literal cheese on pizza and the phrase \"can\\'t handle the truth\" (with \"cheese\" substituting for \"truth\" as a silly, cheesy metaphor).  \\n   - **Humor**: The joke pokes fun at itself by suggesting the pizza pun was so over-the-top (\"cheesy\") that it made people groan.  \\n\\n### Why It Works:  \\n- Pizza-related humor is universally relatable, making it an easy setup.  \\n- The puns are lighthearted and intentionally corny, leaning into the \"cheesiness\" (another pun!) of the joke itself.  \\n- The emojis add a playful, visual punchline.  \\n\\n### Variations on Demand:  \\nIf you\\'d like a different style (e.g., darker humor, dad jokes, or a longer story format), let me know! For example:  \\n- **Dark twist**: \"The pizza maker quit therapy—he couldn’t *cut* through his issues.\" 🔪  \\n- **Dad joke**: \"What did the therapist say to the anxious pizza? \\'You just need to *rise* above it!\\'\"  \\n\\nLet me know how you\\'d like it tweaked!'}"
      ]
     },
     "execution_count": 19,
     "metadata": {},
     "output_type": "execute_result"
    }
   ],
   "source": [
    "config1={'configurable':{'thread_id':'1'}}\n",
    "\n",
    "workflow.invoke({'topic':'pizza'},config=config1)"
   ]
  },
  {
   "cell_type": "code",
   "execution_count": 20,
   "id": "7664e7c5",
   "metadata": {},
   "outputs": [
    {
     "data": {
      "text/plain": [
       "StateSnapshot(values={'topic': 'pizza', 'joke': 'Here\\'s a cheesy one for you:  \\n\\n**Why did the pizza maker go to therapy?**  \\nBecause he couldn’t stop *kneading* validation! 🍕😄  \\n\\n(Or if you prefer a punny one-liner: **\"I told a pizza joke, but it was too *crusty*—no one could handle the *cheese*!\"**)  \\n\\nLet me know if you want a different style!', 'explanation': '### Explanation of the Joke:\\n\\n1. **\"Why did the pizza maker go to therapy? Because he couldn’t stop *kneading* validation!\"**  \\n   - **Wordplay**: The pun hinges on the double meaning of \"kneading.\"  \\n     - In pizza making, *kneading* refers to the process of working dough to develop gluten (a crucial step in making pizza crust).  \\n     - In a psychological context, *needing* validation means seeking approval or reassurance from others.  \\n   - **Humor**: The joke combines the literal action of a pizza maker (kneading dough) with the metaphorical idea of emotional neediness, creating a playful twist. The therapist is humorously \"treating\" the pizza maker\\'s excessive dough-kneading as if it were an emotional issue.  \\n   - **Visual cue**: The pizza emoji (🍕) reinforces the theme.  \\n\\n2. **Alternate one-liner: \"I told a pizza joke, but it was too *crusty*—no one could handle the *cheese*!\"**  \\n   - **Wordplay**:  \\n     - *Crusty*: Literally refers to pizza crust, but colloquially means \"grumpy\" or \"old-fashioned.\"  \\n     - *Handle the cheese*: Plays on the literal cheese on pizza and the phrase \"can\\'t handle the truth\" (with \"cheese\" substituting for \"truth\" as a silly, cheesy metaphor).  \\n   - **Humor**: The joke pokes fun at itself by suggesting the pizza pun was so over-the-top (\"cheesy\") that it made people groan.  \\n\\n### Why It Works:  \\n- Pizza-related humor is universally relatable, making it an easy setup.  \\n- The puns are lighthearted and intentionally corny, leaning into the \"cheesiness\" (another pun!) of the joke itself.  \\n- The emojis add a playful, visual punchline.  \\n\\n### Variations on Demand:  \\nIf you\\'d like a different style (e.g., darker humor, dad jokes, or a longer story format), let me know! For example:  \\n- **Dark twist**: \"The pizza maker quit therapy—he couldn’t *cut* through his issues.\" 🔪  \\n- **Dad joke**: \"What did the therapist say to the anxious pizza? \\'You just need to *rise* above it!\\'\"  \\n\\nLet me know how you\\'d like it tweaked!'}, next=(), config={'configurable': {'thread_id': '1', 'checkpoint_ns': '', 'checkpoint_id': '1f06dfe1-1dff-6198-8002-a05e160b6471'}}, metadata={'source': 'loop', 'step': 2, 'parents': {}, 'thread_id': '1'}, created_at='2025-07-31T11:04:03.749519+00:00', parent_config={'configurable': {'thread_id': '1', 'checkpoint_ns': '', 'checkpoint_id': '1f06dfdf-e5bb-6671-8001-527529bab139'}}, tasks=(), interrupts=())"
      ]
     },
     "execution_count": 20,
     "metadata": {},
     "output_type": "execute_result"
    }
   ],
   "source": [
    "workflow.get_state(config1)"
   ]
  },
  {
   "cell_type": "code",
   "execution_count": 21,
   "id": "5c544f63",
   "metadata": {},
   "outputs": [
    {
     "data": {
      "text/plain": [
       "[StateSnapshot(values={'topic': 'pizza', 'joke': 'Here\\'s a cheesy one for you:  \\n\\n**Why did the pizza maker go to therapy?**  \\nBecause he couldn’t stop *kneading* validation! 🍕😄  \\n\\n(Or if you prefer a punny one-liner: **\"I told a pizza joke, but it was too *crusty*—no one could handle the *cheese*!\"**)  \\n\\nLet me know if you want a different style!', 'explanation': '### Explanation of the Joke:\\n\\n1. **\"Why did the pizza maker go to therapy? Because he couldn’t stop *kneading* validation!\"**  \\n   - **Wordplay**: The pun hinges on the double meaning of \"kneading.\"  \\n     - In pizza making, *kneading* refers to the process of working dough to develop gluten (a crucial step in making pizza crust).  \\n     - In a psychological context, *needing* validation means seeking approval or reassurance from others.  \\n   - **Humor**: The joke combines the literal action of a pizza maker (kneading dough) with the metaphorical idea of emotional neediness, creating a playful twist. The therapist is humorously \"treating\" the pizza maker\\'s excessive dough-kneading as if it were an emotional issue.  \\n   - **Visual cue**: The pizza emoji (🍕) reinforces the theme.  \\n\\n2. **Alternate one-liner: \"I told a pizza joke, but it was too *crusty*—no one could handle the *cheese*!\"**  \\n   - **Wordplay**:  \\n     - *Crusty*: Literally refers to pizza crust, but colloquially means \"grumpy\" or \"old-fashioned.\"  \\n     - *Handle the cheese*: Plays on the literal cheese on pizza and the phrase \"can\\'t handle the truth\" (with \"cheese\" substituting for \"truth\" as a silly, cheesy metaphor).  \\n   - **Humor**: The joke pokes fun at itself by suggesting the pizza pun was so over-the-top (\"cheesy\") that it made people groan.  \\n\\n### Why It Works:  \\n- Pizza-related humor is universally relatable, making it an easy setup.  \\n- The puns are lighthearted and intentionally corny, leaning into the \"cheesiness\" (another pun!) of the joke itself.  \\n- The emojis add a playful, visual punchline.  \\n\\n### Variations on Demand:  \\nIf you\\'d like a different style (e.g., darker humor, dad jokes, or a longer story format), let me know! For example:  \\n- **Dark twist**: \"The pizza maker quit therapy—he couldn’t *cut* through his issues.\" 🔪  \\n- **Dad joke**: \"What did the therapist say to the anxious pizza? \\'You just need to *rise* above it!\\'\"  \\n\\nLet me know how you\\'d like it tweaked!'}, next=(), config={'configurable': {'thread_id': '1', 'checkpoint_ns': '', 'checkpoint_id': '1f06dfe1-1dff-6198-8002-a05e160b6471'}}, metadata={'source': 'loop', 'step': 2, 'parents': {}, 'thread_id': '1'}, created_at='2025-07-31T11:04:03.749519+00:00', parent_config={'configurable': {'thread_id': '1', 'checkpoint_ns': '', 'checkpoint_id': '1f06dfdf-e5bb-6671-8001-527529bab139'}}, tasks=(), interrupts=()),\n",
       " StateSnapshot(values={'topic': 'pizza', 'joke': 'Here\\'s a cheesy one for you:  \\n\\n**Why did the pizza maker go to therapy?**  \\nBecause he couldn’t stop *kneading* validation! 🍕😄  \\n\\n(Or if you prefer a punny one-liner: **\"I told a pizza joke, but it was too *crusty*—no one could handle the *cheese*!\"**)  \\n\\nLet me know if you want a different style!'}, next=('generate_explanation',), config={'configurable': {'thread_id': '1', 'checkpoint_ns': '', 'checkpoint_id': '1f06dfdf-e5bb-6671-8001-527529bab139'}}, metadata={'source': 'loop', 'step': 1, 'parents': {}, 'thread_id': '1'}, created_at='2025-07-31T11:03:31.006219+00:00', parent_config={'configurable': {'thread_id': '1', 'checkpoint_ns': '', 'checkpoint_id': '1f06dfdf-b9fa-6959-8000-25955429d1e4'}}, tasks=(PregelTask(id='19ea7917-f504-1c17-c5c6-3a0bef0914ae', name='generate_explanation', path=('__pregel_pull', 'generate_explanation'), error=None, interrupts=(), state=None, result={'explanation': '### Explanation of the Joke:\\n\\n1. **\"Why did the pizza maker go to therapy? Because he couldn’t stop *kneading* validation!\"**  \\n   - **Wordplay**: The pun hinges on the double meaning of \"kneading.\"  \\n     - In pizza making, *kneading* refers to the process of working dough to develop gluten (a crucial step in making pizza crust).  \\n     - In a psychological context, *needing* validation means seeking approval or reassurance from others.  \\n   - **Humor**: The joke combines the literal action of a pizza maker (kneading dough) with the metaphorical idea of emotional neediness, creating a playful twist. The therapist is humorously \"treating\" the pizza maker\\'s excessive dough-kneading as if it were an emotional issue.  \\n   - **Visual cue**: The pizza emoji (🍕) reinforces the theme.  \\n\\n2. **Alternate one-liner: \"I told a pizza joke, but it was too *crusty*—no one could handle the *cheese*!\"**  \\n   - **Wordplay**:  \\n     - *Crusty*: Literally refers to pizza crust, but colloquially means \"grumpy\" or \"old-fashioned.\"  \\n     - *Handle the cheese*: Plays on the literal cheese on pizza and the phrase \"can\\'t handle the truth\" (with \"cheese\" substituting for \"truth\" as a silly, cheesy metaphor).  \\n   - **Humor**: The joke pokes fun at itself by suggesting the pizza pun was so over-the-top (\"cheesy\") that it made people groan.  \\n\\n### Why It Works:  \\n- Pizza-related humor is universally relatable, making it an easy setup.  \\n- The puns are lighthearted and intentionally corny, leaning into the \"cheesiness\" (another pun!) of the joke itself.  \\n- The emojis add a playful, visual punchline.  \\n\\n### Variations on Demand:  \\nIf you\\'d like a different style (e.g., darker humor, dad jokes, or a longer story format), let me know! For example:  \\n- **Dark twist**: \"The pizza maker quit therapy—he couldn’t *cut* through his issues.\" 🔪  \\n- **Dad joke**: \"What did the therapist say to the anxious pizza? \\'You just need to *rise* above it!\\'\"  \\n\\nLet me know how you\\'d like it tweaked!'}),), interrupts=()),\n",
       " StateSnapshot(values={'topic': 'pizza'}, next=('generate_joke',), config={'configurable': {'thread_id': '1', 'checkpoint_ns': '', 'checkpoint_id': '1f06dfdf-b9fa-6959-8000-25955429d1e4'}}, metadata={'source': 'loop', 'step': 0, 'parents': {}, 'thread_id': '1'}, created_at='2025-07-31T11:03:26.418364+00:00', parent_config={'configurable': {'thread_id': '1', 'checkpoint_ns': '', 'checkpoint_id': '1f06dfdf-b9a1-612f-bfff-639e3e061b33'}}, tasks=(PregelTask(id='f29b3979-9c89-eb3a-f558-2d829f38cd3f', name='generate_joke', path=('__pregel_pull', 'generate_joke'), error=None, interrupts=(), state=None, result={'joke': 'Here\\'s a cheesy one for you:  \\n\\n**Why did the pizza maker go to therapy?**  \\nBecause he couldn’t stop *kneading* validation! 🍕😄  \\n\\n(Or if you prefer a punny one-liner: **\"I told a pizza joke, but it was too *crusty*—no one could handle the *cheese*!\"**)  \\n\\nLet me know if you want a different style!'}),), interrupts=()),\n",
       " StateSnapshot(values={}, next=('__start__',), config={'configurable': {'thread_id': '1', 'checkpoint_ns': '', 'checkpoint_id': '1f06dfdf-b9a1-612f-bfff-639e3e061b33'}}, metadata={'source': 'input', 'step': -1, 'parents': {}, 'thread_id': '1'}, created_at='2025-07-31T11:03:26.381700+00:00', parent_config=None, tasks=(PregelTask(id='62c5b78d-9e67-9e67-a355-b5d70a4d87d2', name='__start__', path=('__pregel_pull', '__start__'), error=None, interrupts=(), state=None, result={'topic': 'pizza'}),), interrupts=())]"
      ]
     },
     "execution_count": 21,
     "metadata": {},
     "output_type": "execute_result"
    }
   ],
   "source": [
    "list(workflow.get_state_history(config1))"
   ]
  },
  {
   "cell_type": "code",
   "execution_count": 22,
   "id": "71783ee6",
   "metadata": {},
   "outputs": [
    {
     "data": {
      "text/plain": [
       "{'topic': 'pasta',\n",
       " 'joke': \"Sure! Here's a cheesy pasta joke for you:  \\n\\n**Why did the spaghetti break up with the fettuccine?**  \\nBecause it couldn't handle the *twisted* relationship! 🍝😂  \\n\\nLet me know if you'd like another one—I've got *plenty* of noodle puns!\",\n",
       " 'explanation': 'Here’s the explanation of the joke:\\n\\n### **Joke Breakdown:**\\n1. **Setup**: The joke personifies two types of pasta—spaghetti and fettuccine—as if they were in a romantic relationship.  \\n   - Spaghetti is long and thin, often tangled or \"twisted.\"  \\n   - Fettuccine is flat and ribbon-like, less prone to tangling.  \\n\\n2. **Punchline**: \"Because it couldn\\'t handle the *twisted* relationship!\"  \\n   - **Literal Meaning**: Spaghetti is physically twisted in shape, making it hard to \"handle\" (literally, it gets tangled).  \\n   - **Figurative Meaning**: The word \"twisted\" also implies a dysfunctional or complicated romantic relationship. So, the spaghetti \"broke up\" with fettuccine because their relationship was too messy or dramatic.  \\n\\n3. **Wordplay**: The humor comes from the double meaning of \"twisted,\" blending the pasta’s physical form with a metaphorical description of a rocky romance.  \\n\\n4. **Cheesy Factor**: The joke is intentionally corny, playing on the stereotype of pasta-related puns (hence the setup: \"Here\\'s a *cheesy* pasta joke\").  \\n\\n**Why It’s Funny**: It’s a lighthearted, silly pun that combines food and relationship humor—a classic combo for a groan-worthy but enjoyable joke. The more exaggerated the pasta\\'s \"drama,\" the funnier it gets!  \\n\\nWant another? How about:  \\n**Why did the penne refuse to fight?**  \\nBecause it was *pasta* its prime! 🍝 (I warned you—*plenty* of noodle puns!)'}"
      ]
     },
     "execution_count": 22,
     "metadata": {},
     "output_type": "execute_result"
    }
   ],
   "source": [
    "config2={'configurable':{'thread_id':'2'}}\n",
    "\n",
    "workflow.invoke({'topic':'pasta'},config=config2)"
   ]
  },
  {
   "cell_type": "code",
   "execution_count": 24,
   "id": "65825513",
   "metadata": {},
   "outputs": [
    {
     "data": {
      "text/plain": [
       "[StateSnapshot(values={'topic': 'pasta', 'joke': \"Sure! Here's a cheesy pasta joke for you:  \\n\\n**Why did the spaghetti break up with the fettuccine?**  \\nBecause it couldn't handle the *twisted* relationship! 🍝😂  \\n\\nLet me know if you'd like another one—I've got *plenty* of noodle puns!\", 'explanation': 'Here’s the explanation of the joke:\\n\\n### **Joke Breakdown:**\\n1. **Setup**: The joke personifies two types of pasta—spaghetti and fettuccine—as if they were in a romantic relationship.  \\n   - Spaghetti is long and thin, often tangled or \"twisted.\"  \\n   - Fettuccine is flat and ribbon-like, less prone to tangling.  \\n\\n2. **Punchline**: \"Because it couldn\\'t handle the *twisted* relationship!\"  \\n   - **Literal Meaning**: Spaghetti is physically twisted in shape, making it hard to \"handle\" (literally, it gets tangled).  \\n   - **Figurative Meaning**: The word \"twisted\" also implies a dysfunctional or complicated romantic relationship. So, the spaghetti \"broke up\" with fettuccine because their relationship was too messy or dramatic.  \\n\\n3. **Wordplay**: The humor comes from the double meaning of \"twisted,\" blending the pasta’s physical form with a metaphorical description of a rocky romance.  \\n\\n4. **Cheesy Factor**: The joke is intentionally corny, playing on the stereotype of pasta-related puns (hence the setup: \"Here\\'s a *cheesy* pasta joke\").  \\n\\n**Why It’s Funny**: It’s a lighthearted, silly pun that combines food and relationship humor—a classic combo for a groan-worthy but enjoyable joke. The more exaggerated the pasta\\'s \"drama,\" the funnier it gets!  \\n\\nWant another? How about:  \\n**Why did the penne refuse to fight?**  \\nBecause it was *pasta* its prime! 🍝 (I warned you—*plenty* of noodle puns!)'}, next=(), config={'configurable': {'thread_id': '2', 'checkpoint_ns': '', 'checkpoint_id': '1f06dfee-ca3a-6c07-8002-db5dd5914d9d'}}, metadata={'source': 'loop', 'step': 2, 'parents': {}, 'thread_id': '2'}, created_at='2025-07-31T11:10:10.775552+00:00', parent_config={'configurable': {'thread_id': '2', 'checkpoint_ns': '', 'checkpoint_id': '1f06dfee-2aa1-6a6d-8001-da431ae96300'}}, tasks=(), interrupts=()),\n",
       " StateSnapshot(values={'topic': 'pasta', 'joke': \"Sure! Here's a cheesy pasta joke for you:  \\n\\n**Why did the spaghetti break up with the fettuccine?**  \\nBecause it couldn't handle the *twisted* relationship! 🍝😂  \\n\\nLet me know if you'd like another one—I've got *plenty* of noodle puns!\"}, next=('generate_explanation',), config={'configurable': {'thread_id': '2', 'checkpoint_ns': '', 'checkpoint_id': '1f06dfee-2aa1-6a6d-8001-da431ae96300'}}, metadata={'source': 'loop', 'step': 1, 'parents': {}, 'thread_id': '2'}, created_at='2025-07-31T11:09:54.040484+00:00', parent_config={'configurable': {'thread_id': '2', 'checkpoint_ns': '', 'checkpoint_id': '1f06dfed-ac06-6b58-8000-8d4bc146b6e7'}}, tasks=(PregelTask(id='ae638bcc-8fb5-4804-144a-229ccdca4ad8', name='generate_explanation', path=('__pregel_pull', 'generate_explanation'), error=None, interrupts=(), state=None, result={'explanation': 'Here’s the explanation of the joke:\\n\\n### **Joke Breakdown:**\\n1. **Setup**: The joke personifies two types of pasta—spaghetti and fettuccine—as if they were in a romantic relationship.  \\n   - Spaghetti is long and thin, often tangled or \"twisted.\"  \\n   - Fettuccine is flat and ribbon-like, less prone to tangling.  \\n\\n2. **Punchline**: \"Because it couldn\\'t handle the *twisted* relationship!\"  \\n   - **Literal Meaning**: Spaghetti is physically twisted in shape, making it hard to \"handle\" (literally, it gets tangled).  \\n   - **Figurative Meaning**: The word \"twisted\" also implies a dysfunctional or complicated romantic relationship. So, the spaghetti \"broke up\" with fettuccine because their relationship was too messy or dramatic.  \\n\\n3. **Wordplay**: The humor comes from the double meaning of \"twisted,\" blending the pasta’s physical form with a metaphorical description of a rocky romance.  \\n\\n4. **Cheesy Factor**: The joke is intentionally corny, playing on the stereotype of pasta-related puns (hence the setup: \"Here\\'s a *cheesy* pasta joke\").  \\n\\n**Why It’s Funny**: It’s a lighthearted, silly pun that combines food and relationship humor—a classic combo for a groan-worthy but enjoyable joke. The more exaggerated the pasta\\'s \"drama,\" the funnier it gets!  \\n\\nWant another? How about:  \\n**Why did the penne refuse to fight?**  \\nBecause it was *pasta* its prime! 🍝 (I warned you—*plenty* of noodle puns!)'}),), interrupts=()),\n",
       " StateSnapshot(values={'topic': 'pasta'}, next=('generate_joke',), config={'configurable': {'thread_id': '2', 'checkpoint_ns': '', 'checkpoint_id': '1f06dfed-ac06-6b58-8000-8d4bc146b6e7'}}, metadata={'source': 'loop', 'step': 0, 'parents': {}, 'thread_id': '2'}, created_at='2025-07-31T11:09:40.764962+00:00', parent_config={'configurable': {'thread_id': '2', 'checkpoint_ns': '', 'checkpoint_id': '1f06dfed-ac02-6d5c-bfff-96c12d968466'}}, tasks=(PregelTask(id='d1b51e11-51da-be46-0c24-6940bd5b3f87', name='generate_joke', path=('__pregel_pull', 'generate_joke'), error=None, interrupts=(), state=None, result={'joke': \"Sure! Here's a cheesy pasta joke for you:  \\n\\n**Why did the spaghetti break up with the fettuccine?**  \\nBecause it couldn't handle the *twisted* relationship! 🍝😂  \\n\\nLet me know if you'd like another one—I've got *plenty* of noodle puns!\"}),), interrupts=()),\n",
       " StateSnapshot(values={}, next=('__start__',), config={'configurable': {'thread_id': '2', 'checkpoint_ns': '', 'checkpoint_id': '1f06dfed-ac02-6d5c-bfff-96c12d968466'}}, metadata={'source': 'input', 'step': -1, 'parents': {}, 'thread_id': '2'}, created_at='2025-07-31T11:09:40.763375+00:00', parent_config=None, tasks=(PregelTask(id='5a215d5e-fd30-9ea3-678f-f9574429b2e6', name='__start__', path=('__pregel_pull', '__start__'), error=None, interrupts=(), state=None, result={'topic': 'pasta'}),), interrupts=())]"
      ]
     },
     "execution_count": 24,
     "metadata": {},
     "output_type": "execute_result"
    }
   ],
   "source": [
    "list(workflow.get_state_history(config2))"
   ]
  },
  {
   "cell_type": "markdown",
   "id": "4c7c86eb",
   "metadata": {},
   "source": [
    "# Time Travel"
   ]
  },
  {
   "cell_type": "code",
   "execution_count": 25,
   "id": "b3fa960c",
   "metadata": {},
   "outputs": [
    {
     "data": {
      "text/plain": [
       "StateSnapshot(values={'topic': 'pasta'}, next=('generate_joke',), config={'configurable': {'thread_id': '2', 'checkpoint_id': '1f06dfed-ac06-6b58-8000-8d4bc146b6e7'}}, metadata={'source': 'loop', 'step': 0, 'parents': {}, 'thread_id': '2'}, created_at='2025-07-31T11:09:40.764962+00:00', parent_config={'configurable': {'thread_id': '2', 'checkpoint_ns': '', 'checkpoint_id': '1f06dfed-ac02-6d5c-bfff-96c12d968466'}}, tasks=(PregelTask(id='d1b51e11-51da-be46-0c24-6940bd5b3f87', name='generate_joke', path=('__pregel_pull', 'generate_joke'), error=None, interrupts=(), state=None, result={'joke': \"Sure! Here's a cheesy pasta joke for you:  \\n\\n**Why did the spaghetti break up with the fettuccine?**  \\nBecause it couldn't handle the *twisted* relationship! 🍝😂  \\n\\nLet me know if you'd like another one—I've got *plenty* of noodle puns!\"}),), interrupts=())"
      ]
     },
     "execution_count": 25,
     "metadata": {},
     "output_type": "execute_result"
    }
   ],
   "source": [
    "workflow.get_state({'configurable':{'thread_id':'2',\"checkpoint_id\":'1f06dfed-ac06-6b58-8000-8d4bc146b6e7'}})\n",
    "\n"
   ]
  },
  {
   "cell_type": "code",
   "execution_count": 26,
   "id": "8ca157f3",
   "metadata": {},
   "outputs": [
    {
     "data": {
      "text/plain": [
       "{'topic': 'pasta',\n",
       " 'joke': 'Sure! Here\\'s a pasta joke for you:  \\n\\n**Why did the spaghetti break up with the linguine?**  \\nBecause it said, \"You\\'re too saucy, and I need some *space*!\"  \\n\\nHope that gives you a chuckle! Let me know if you\\'d like another one. 🍝😄',\n",
       " 'explanation': 'Certainly! Here\\'s a breakdown of why this pasta-themed joke is humorous:\\n\\n### **Wordplay & Double Meaning:**\\n1. **\"Saucy\"** – This word has two meanings:\\n   - Literally: Pasta is often served with sauce, so linguine (a type of pasta) could be described as \"saucy.\"\\n   - Figuratively: In English, \"saucy\" can mean someone is cheeky, flirtatious, or overly bold, implying the linguine was being a bit too much to handle.\\n\\n2. **\"Need some space\"** – This also has a double meaning:\\n   - Literal: Spaghetti and linguine are long, thin noodles that can get tangled if they don\\'t have enough \"space\" in the pot or plate.\\n   - Figurative: In relationships, \"needing space\" means wanting distance from someone (like a breakup line).\\n\\n### **Why It’s Funny:**\\n- The joke personifies pasta, giving human-like relationship problems (\"breaking up\") to inanimate objects.  \\n- The puns make the punchline clever and unexpected, playing on both the food and relationship meanings.  \\n- It’s lighthearted and relatable—everyone has heard cheesy breakup lines, but comparing it to pasta makes it whimsical.  \\n\\n### **Bonus Humor Layer:**\\nIf you imagine two noodles dramatically arguing in a pot, it’s even sillier!  \\n\\nWould you like another food pun or a different style of joke? 😆🍝'}"
      ]
     },
     "execution_count": 26,
     "metadata": {},
     "output_type": "execute_result"
    }
   ],
   "source": [
    "workflow.invoke(None,{'configurable':{'thread_id':'2',\"checkpoint_id\":'1f06dfed-ac06-6b58-8000-8d4bc146b6e7'}})"
   ]
  },
  {
   "cell_type": "markdown",
   "id": "7b4f9c50",
   "metadata": {},
   "source": [
    "# Update State"
   ]
  },
  {
   "cell_type": "code",
   "execution_count": 30,
   "id": "aaaea2e2",
   "metadata": {},
   "outputs": [
    {
     "data": {
      "text/plain": [
       "{'configurable': {'thread_id': '2',\n",
       "  'checkpoint_ns': '',\n",
       "  'checkpoint_id': '1f06e019-58cb-6dcb-8001-67448a459265'}}"
      ]
     },
     "execution_count": 30,
     "metadata": {},
     "output_type": "execute_result"
    }
   ],
   "source": [
    "workflow.update_state(\n",
    "    {\n",
    "        'configurable': {\n",
    "            'thread_id': '2',\n",
    "            'checkpoint_id': '1f06dfed-ac06-6b58-8000-8d4bc146b6e7',\n",
    "            'checkpoint_ns': ''  # ✅ Add this\n",
    "        }\n",
    "    },\n",
    "    {'topic': 'samosa'}\n",
    ")\n"
   ]
  },
  {
   "cell_type": "code",
   "execution_count": 31,
   "id": "07c34c3b",
   "metadata": {},
   "outputs": [
    {
     "data": {
      "text/plain": [
       "[StateSnapshot(values={'topic': 'samosa'}, next=('generate_joke',), config={'configurable': {'thread_id': '2', 'checkpoint_ns': '', 'checkpoint_id': '1f06e019-58cb-6dcb-8001-67448a459265'}}, metadata={'source': 'update', 'step': 1, 'parents': {}, 'thread_id': '2'}, created_at='2025-07-31T11:29:13.153684+00:00', parent_config={'configurable': {'thread_id': '2', 'checkpoint_ns': '', 'checkpoint_id': '1f06dfed-ac06-6b58-8000-8d4bc146b6e7'}}, tasks=(PregelTask(id='9ca0a8b1-43b7-a7f9-f524-21516b061771', name='generate_joke', path=('__pregel_pull', 'generate_joke'), error=None, interrupts=(), state=None, result=None),), interrupts=()),\n",
       " StateSnapshot(values={'topic': 'pasta', 'joke': 'Sure! Here\\'s a pasta joke for you:  \\n\\n**Why did the spaghetti break up with the linguine?**  \\nBecause it said, \"You\\'re too saucy, and I need some *space*!\"  \\n\\nHope that gives you a chuckle! Let me know if you\\'d like another one. 🍝😄', 'explanation': 'Certainly! Here\\'s a breakdown of why this pasta-themed joke is humorous:\\n\\n### **Wordplay & Double Meaning:**\\n1. **\"Saucy\"** – This word has two meanings:\\n   - Literally: Pasta is often served with sauce, so linguine (a type of pasta) could be described as \"saucy.\"\\n   - Figuratively: In English, \"saucy\" can mean someone is cheeky, flirtatious, or overly bold, implying the linguine was being a bit too much to handle.\\n\\n2. **\"Need some space\"** – This also has a double meaning:\\n   - Literal: Spaghetti and linguine are long, thin noodles that can get tangled if they don\\'t have enough \"space\" in the pot or plate.\\n   - Figurative: In relationships, \"needing space\" means wanting distance from someone (like a breakup line).\\n\\n### **Why It’s Funny:**\\n- The joke personifies pasta, giving human-like relationship problems (\"breaking up\") to inanimate objects.  \\n- The puns make the punchline clever and unexpected, playing on both the food and relationship meanings.  \\n- It’s lighthearted and relatable—everyone has heard cheesy breakup lines, but comparing it to pasta makes it whimsical.  \\n\\n### **Bonus Humor Layer:**\\nIf you imagine two noodles dramatically arguing in a pot, it’s even sillier!  \\n\\nWould you like another food pun or a different style of joke? 😆🍝'}, next=(), config={'configurable': {'thread_id': '2', 'checkpoint_ns': '', 'checkpoint_id': '1f06e011-671e-6c82-8002-4e8bf81e89e2'}}, metadata={'source': 'loop', 'step': 2, 'parents': {}, 'thread_id': '2'}, created_at='2025-07-31T11:25:39.907289+00:00', parent_config={'configurable': {'thread_id': '2', 'checkpoint_ns': '', 'checkpoint_id': '1f06e010-d588-602a-8001-135f6368f16d'}}, tasks=(), interrupts=()),\n",
       " StateSnapshot(values={'topic': 'pasta', 'joke': 'Sure! Here\\'s a pasta joke for you:  \\n\\n**Why did the spaghetti break up with the linguine?**  \\nBecause it said, \"You\\'re too saucy, and I need some *space*!\"  \\n\\nHope that gives you a chuckle! Let me know if you\\'d like another one. 🍝😄'}, next=('generate_explanation',), config={'configurable': {'thread_id': '2', 'checkpoint_ns': '', 'checkpoint_id': '1f06e010-d588-602a-8001-135f6368f16d'}}, metadata={'source': 'loop', 'step': 1, 'parents': {}, 'thread_id': '2'}, created_at='2025-07-31T11:25:24.641181+00:00', parent_config={'configurable': {'thread_id': '2', 'checkpoint_ns': '', 'checkpoint_id': '1f06dfed-ac06-6b58-8000-8d4bc146b6e7'}}, tasks=(PregelTask(id='d49317c7-5064-53cd-42f6-893ddaa1d73e', name='generate_explanation', path=('__pregel_pull', 'generate_explanation'), error=None, interrupts=(), state=None, result={'explanation': 'Certainly! Here\\'s a breakdown of why this pasta-themed joke is humorous:\\n\\n### **Wordplay & Double Meaning:**\\n1. **\"Saucy\"** – This word has two meanings:\\n   - Literally: Pasta is often served with sauce, so linguine (a type of pasta) could be described as \"saucy.\"\\n   - Figuratively: In English, \"saucy\" can mean someone is cheeky, flirtatious, or overly bold, implying the linguine was being a bit too much to handle.\\n\\n2. **\"Need some space\"** – This also has a double meaning:\\n   - Literal: Spaghetti and linguine are long, thin noodles that can get tangled if they don\\'t have enough \"space\" in the pot or plate.\\n   - Figurative: In relationships, \"needing space\" means wanting distance from someone (like a breakup line).\\n\\n### **Why It’s Funny:**\\n- The joke personifies pasta, giving human-like relationship problems (\"breaking up\") to inanimate objects.  \\n- The puns make the punchline clever and unexpected, playing on both the food and relationship meanings.  \\n- It’s lighthearted and relatable—everyone has heard cheesy breakup lines, but comparing it to pasta makes it whimsical.  \\n\\n### **Bonus Humor Layer:**\\nIf you imagine two noodles dramatically arguing in a pot, it’s even sillier!  \\n\\nWould you like another food pun or a different style of joke? 😆🍝'}),), interrupts=()),\n",
       " StateSnapshot(values={'topic': 'pasta', 'joke': \"Sure! Here's a cheesy pasta joke for you:  \\n\\n**Why did the spaghetti break up with the fettuccine?**  \\nBecause it couldn't handle the *twisted* relationship! 🍝😂  \\n\\nLet me know if you'd like another one—I've got *plenty* of noodle puns!\", 'explanation': 'Here’s the explanation of the joke:\\n\\n### **Joke Breakdown:**\\n1. **Setup**: The joke personifies two types of pasta—spaghetti and fettuccine—as if they were in a romantic relationship.  \\n   - Spaghetti is long and thin, often tangled or \"twisted.\"  \\n   - Fettuccine is flat and ribbon-like, less prone to tangling.  \\n\\n2. **Punchline**: \"Because it couldn\\'t handle the *twisted* relationship!\"  \\n   - **Literal Meaning**: Spaghetti is physically twisted in shape, making it hard to \"handle\" (literally, it gets tangled).  \\n   - **Figurative Meaning**: The word \"twisted\" also implies a dysfunctional or complicated romantic relationship. So, the spaghetti \"broke up\" with fettuccine because their relationship was too messy or dramatic.  \\n\\n3. **Wordplay**: The humor comes from the double meaning of \"twisted,\" blending the pasta’s physical form with a metaphorical description of a rocky romance.  \\n\\n4. **Cheesy Factor**: The joke is intentionally corny, playing on the stereotype of pasta-related puns (hence the setup: \"Here\\'s a *cheesy* pasta joke\").  \\n\\n**Why It’s Funny**: It’s a lighthearted, silly pun that combines food and relationship humor—a classic combo for a groan-worthy but enjoyable joke. The more exaggerated the pasta\\'s \"drama,\" the funnier it gets!  \\n\\nWant another? How about:  \\n**Why did the penne refuse to fight?**  \\nBecause it was *pasta* its prime! 🍝 (I warned you—*plenty* of noodle puns!)'}, next=(), config={'configurable': {'thread_id': '2', 'checkpoint_ns': '', 'checkpoint_id': '1f06dfee-ca3a-6c07-8002-db5dd5914d9d'}}, metadata={'source': 'loop', 'step': 2, 'parents': {}, 'thread_id': '2'}, created_at='2025-07-31T11:10:10.775552+00:00', parent_config={'configurable': {'thread_id': '2', 'checkpoint_ns': '', 'checkpoint_id': '1f06dfee-2aa1-6a6d-8001-da431ae96300'}}, tasks=(), interrupts=()),\n",
       " StateSnapshot(values={'topic': 'pasta', 'joke': \"Sure! Here's a cheesy pasta joke for you:  \\n\\n**Why did the spaghetti break up with the fettuccine?**  \\nBecause it couldn't handle the *twisted* relationship! 🍝😂  \\n\\nLet me know if you'd like another one—I've got *plenty* of noodle puns!\"}, next=('generate_explanation',), config={'configurable': {'thread_id': '2', 'checkpoint_ns': '', 'checkpoint_id': '1f06dfee-2aa1-6a6d-8001-da431ae96300'}}, metadata={'source': 'loop', 'step': 1, 'parents': {}, 'thread_id': '2'}, created_at='2025-07-31T11:09:54.040484+00:00', parent_config={'configurable': {'thread_id': '2', 'checkpoint_ns': '', 'checkpoint_id': '1f06dfed-ac06-6b58-8000-8d4bc146b6e7'}}, tasks=(PregelTask(id='ae638bcc-8fb5-4804-144a-229ccdca4ad8', name='generate_explanation', path=('__pregel_pull', 'generate_explanation'), error=None, interrupts=(), state=None, result={'explanation': 'Here’s the explanation of the joke:\\n\\n### **Joke Breakdown:**\\n1. **Setup**: The joke personifies two types of pasta—spaghetti and fettuccine—as if they were in a romantic relationship.  \\n   - Spaghetti is long and thin, often tangled or \"twisted.\"  \\n   - Fettuccine is flat and ribbon-like, less prone to tangling.  \\n\\n2. **Punchline**: \"Because it couldn\\'t handle the *twisted* relationship!\"  \\n   - **Literal Meaning**: Spaghetti is physically twisted in shape, making it hard to \"handle\" (literally, it gets tangled).  \\n   - **Figurative Meaning**: The word \"twisted\" also implies a dysfunctional or complicated romantic relationship. So, the spaghetti \"broke up\" with fettuccine because their relationship was too messy or dramatic.  \\n\\n3. **Wordplay**: The humor comes from the double meaning of \"twisted,\" blending the pasta’s physical form with a metaphorical description of a rocky romance.  \\n\\n4. **Cheesy Factor**: The joke is intentionally corny, playing on the stereotype of pasta-related puns (hence the setup: \"Here\\'s a *cheesy* pasta joke\").  \\n\\n**Why It’s Funny**: It’s a lighthearted, silly pun that combines food and relationship humor—a classic combo for a groan-worthy but enjoyable joke. The more exaggerated the pasta\\'s \"drama,\" the funnier it gets!  \\n\\nWant another? How about:  \\n**Why did the penne refuse to fight?**  \\nBecause it was *pasta* its prime! 🍝 (I warned you—*plenty* of noodle puns!)'}),), interrupts=()),\n",
       " StateSnapshot(values={'topic': 'pasta'}, next=('generate_joke',), config={'configurable': {'thread_id': '2', 'checkpoint_ns': '', 'checkpoint_id': '1f06dfed-ac06-6b58-8000-8d4bc146b6e7'}}, metadata={'source': 'loop', 'step': 0, 'parents': {}, 'thread_id': '2'}, created_at='2025-07-31T11:09:40.764962+00:00', parent_config={'configurable': {'thread_id': '2', 'checkpoint_ns': '', 'checkpoint_id': '1f06dfed-ac02-6d5c-bfff-96c12d968466'}}, tasks=(PregelTask(id='d1b51e11-51da-be46-0c24-6940bd5b3f87', name='generate_joke', path=('__pregel_pull', 'generate_joke'), error=None, interrupts=(), state=None, result={'joke': \"Sure! Here's a cheesy pasta joke for you:  \\n\\n**Why did the spaghetti break up with the fettuccine?**  \\nBecause it couldn't handle the *twisted* relationship! 🍝😂  \\n\\nLet me know if you'd like another one—I've got *plenty* of noodle puns!\"}),), interrupts=()),\n",
       " StateSnapshot(values={}, next=('__start__',), config={'configurable': {'thread_id': '2', 'checkpoint_ns': '', 'checkpoint_id': '1f06dfed-ac02-6d5c-bfff-96c12d968466'}}, metadata={'source': 'input', 'step': -1, 'parents': {}, 'thread_id': '2'}, created_at='2025-07-31T11:09:40.763375+00:00', parent_config=None, tasks=(PregelTask(id='5a215d5e-fd30-9ea3-678f-f9574429b2e6', name='__start__', path=('__pregel_pull', '__start__'), error=None, interrupts=(), state=None, result={'topic': 'pasta'}),), interrupts=())]"
      ]
     },
     "execution_count": 31,
     "metadata": {},
     "output_type": "execute_result"
    }
   ],
   "source": [
    "list(workflow.get_state_history(config2))"
   ]
  },
  {
   "cell_type": "code",
   "execution_count": 32,
   "id": "a4907fff",
   "metadata": {},
   "outputs": [
    {
     "data": {
      "text/plain": [
       "{'topic': 'samosa',\n",
       " 'joke': 'Sure! Here\\'s a samosa joke for you:  \\n\\n**Why did the samosa go to the gym?**  \\n*Because it wanted to avoid becoming a* **\"flaky\"** *snack!* 🏋️\\u200d♂️😆  \\n\\n(Get it? Samosas are flaky, and the joke plays on the pun of being flaky in texture vs. being unreliable!)  \\n\\nHope that brings a smile! Let me know if you want another one. 😊',\n",
       " 'explanation': 'Here\\'s a breakdown of why this **samosa gym joke** is funny:\\n\\n1. **Double Meaning of \"Flaky\":**  \\n   - *Literal:* Samosas have a crispy, flaky pastry crust.  \\n   - *Figurative:* Calling someone \"flaky\" means they’re unreliable or inconsistent (e.g., canceling plans last minute).  \\n\\n2. **The Punchline:**  \\n   The samosa humorously \"works out\" to avoid becoming literally flaky (losing its crispness) while also \"improving itself\" to not be figuratively flaky (unreliable). It’s a playful twist on self-improvement clichés (like going to the gym to \"better yourself\").  \\n\\n3. **Visual Humor:**  \\n   Imagining a samosa lifting weights or running on a treadmill adds absurdity, making the pun even sillier.  \\n\\n**Why It Works:**  \\n- **Unexpected Logic:** Snacks don’t usually hit the gym, so the premise is absurd.  \\n- **Cultural Nod:** Samosa lovers instantly recognize the texture reference, while others get the wordplay.  \\n\\nBonus: The 🏋️\\u200d♂️😆 emojis heighten the joke by emphasizing the gym theme and the punchline’s cheekiness.  \\n\\nWant another food pun? Try: *Why did the dal go to therapy?* **It couldn’t stop splitting under pressure!** 😆'}"
      ]
     },
     "execution_count": 32,
     "metadata": {},
     "output_type": "execute_result"
    }
   ],
   "source": [
    "workflow.invoke(None,{'configurable':{'thread_id':'2',\"checkpoint_id\":'1f06e019-58cb-6dcb-8001-67448a459265'}})"
   ]
  },
  {
   "cell_type": "code",
   "execution_count": null,
   "id": "29c85e48",
   "metadata": {},
   "outputs": [],
   "source": []
  }
 ],
 "metadata": {
  "kernelspec": {
   "display_name": "myenv",
   "language": "python",
   "name": "python3"
  },
  "language_info": {
   "codemirror_mode": {
    "name": "ipython",
    "version": 3
   },
   "file_extension": ".py",
   "mimetype": "text/x-python",
   "name": "python",
   "nbconvert_exporter": "python",
   "pygments_lexer": "ipython3",
   "version": "3.12.5"
  }
 },
 "nbformat": 4,
 "nbformat_minor": 5
}
