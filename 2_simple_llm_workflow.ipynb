{
 "cells": [
  {
   "cell_type": "code",
   "execution_count": 212,
   "id": "14e30cba",
   "metadata": {},
   "outputs": [],
   "source": [
    "from langchain.schema import HumanMessage"
   ]
  },
  {
   "cell_type": "code",
   "execution_count": 213,
   "id": "ef3bb8d6",
   "metadata": {},
   "outputs": [],
   "source": [
    "from langgraph.graph import StateGraph,START,END\n",
    "from langchain_openai import ChatOpenAI\n",
    "# from langchain_community.chat_models import ChatOpenAI\n",
    "\n",
    "from langchain.llms import openai\n",
    "from typing import TypedDict\n",
    "from dotenv import load_dotenv\n",
    "import os"
   ]
  },
  {
   "cell_type": "code",
   "execution_count": 214,
   "id": "dad59904",
   "metadata": {},
   "outputs": [
    {
     "data": {
      "text/plain": [
       "True"
      ]
     },
     "execution_count": 214,
     "metadata": {},
     "output_type": "execute_result"
    }
   ],
   "source": [
    "load_dotenv()"
   ]
  },
  {
   "cell_type": "code",
   "execution_count": 215,
   "id": "2c4d70a6",
   "metadata": {},
   "outputs": [],
   "source": [
    "model = ChatOpenAI(\n",
    "    model=\"google/gemma-3n-e2b-it:free\",\n",
    "    api_key=os.getenv(\"OPENROUTER_API_KEY\"),\n",
    "    base_url=\"https://openrouter.ai/api/v1\",\n",
    "    temperature=0.7\n",
    ")"
   ]
  },
  {
   "cell_type": "code",
   "execution_count": 217,
   "id": "cd4ad958",
   "metadata": {},
   "outputs": [],
   "source": [
    "#create a state\n",
    "class LLMState(TypedDict):\n",
    "    question:str\n",
    "    answer:str"
   ]
  },
  {
   "cell_type": "code",
   "execution_count": 218,
   "id": "6e53e2c8",
   "metadata": {},
   "outputs": [],
   "source": [
    "def llm_qa(state: LLMState) -> LLMState:\n",
    "    # Extract the question from the state\n",
    "    question = state['question']\n",
    "    \n",
    "    # Check if model is properly initialized\n",
    "    if model is None or not hasattr(model, 'invoke'):\n",
    "        state['answer'] = \"Error: Model not properly initialized. Please check your API key and try again.\"\n",
    "        return state\n",
    "    \n",
    "    # Form a prompt\n",
    "    prompt = f\"Answer the following question: {question}\"\n",
    "    \n",
    "    # Ask the question to the LLM\n",
    "    try:\n",
    "        response = model.invoke([HumanMessage(content=prompt)])\n",
    "        answer = response.content\n",
    "    except Exception as e:\n",
    "        answer = f\"Error calling model: {str(e)}\"\n",
    "    \n",
    "    # Update the answer in the state\n",
    "    state['answer'] = answer\n",
    "    \n",
    "    return state"
   ]
  },
  {
   "cell_type": "code",
   "execution_count": 219,
   "id": "ebc9d14c",
   "metadata": {},
   "outputs": [],
   "source": [
    "#create a graph\n",
    "\n",
    "graph=StateGraph(LLMState)\n",
    "\n",
    "#add nodes\n",
    "graph.add_node('llm_qa',llm_qa)\n",
    "\n",
    "#add edges\n",
    "graph.add_edge(START,'llm_qa')\n",
    "graph.add_edge('llm_qa',END)\n",
    "\n",
    "#compile\n",
    "workflow=graph.compile()\n"
   ]
  },
  {
   "cell_type": "code",
   "execution_count": 222,
   "id": "7fe65267",
   "metadata": {},
   "outputs": [
    {
     "data": {
      "text/plain": [
       "{'question': 'How far is moon from earth',\n",
       " 'answer': \"The average distance from the Moon to the Earth is about 384,400 kilometers, or 238,855 miles. This distance varies slightly throughout the Moon's orbit, with the closest approach (perigee) being around 363,104 kilometers and the farthest point (apogee) being about 405,696 kilometers.\"}"
      ]
     },
     "execution_count": 222,
     "metadata": {},
     "output_type": "execute_result"
    }
   ],
   "source": [
    "#execute\n",
    "initial_state={'question':'How far is moon from earth'}\n",
    "\n",
    "workflow.invoke(initial_state)"
   ]
  },
  {
   "cell_type": "code",
   "execution_count": null,
   "id": "37f5a26d",
   "metadata": {},
   "outputs": [],
   "source": []
  }
 ],
 "metadata": {
  "kernelspec": {
   "display_name": "myenv",
   "language": "python",
   "name": "python3"
  },
  "language_info": {
   "codemirror_mode": {
    "name": "ipython",
    "version": 3
   },
   "file_extension": ".py",
   "mimetype": "text/x-python",
   "name": "python",
   "nbconvert_exporter": "python",
   "pygments_lexer": "ipython3",
   "version": "3.12.5"
  }
 },
 "nbformat": 4,
 "nbformat_minor": 5
}
