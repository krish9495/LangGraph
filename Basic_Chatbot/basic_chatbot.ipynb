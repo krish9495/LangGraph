{
 "cells": [
  {
   "cell_type": "code",
   "execution_count": 37,
   "id": "35c81662",
   "metadata": {},
   "outputs": [],
   "source": [
    "from langgraph.graph import StateGraph,START,END\n",
    "from typing import TypedDict,Annotated\n",
    "from langchain_core.messages import HumanMessage,BaseMessage\n",
    "from langchain_openai import ChatOpenAI\n",
    "from dotenv import load_dotenv\n",
    "import os\n",
    "\n",
    "from langgraph.checkpoint.memory import MemorySaver\n"
   ]
  },
  {
   "cell_type": "code",
   "execution_count": 18,
   "id": "d9abbe78",
   "metadata": {},
   "outputs": [
    {
     "data": {
      "text/plain": [
       "True"
      ]
     },
     "execution_count": 18,
     "metadata": {},
     "output_type": "execute_result"
    }
   ],
   "source": [
    "load_dotenv()"
   ]
  },
  {
   "cell_type": "code",
   "execution_count": 19,
   "id": "bdf92639",
   "metadata": {},
   "outputs": [],
   "source": [
    "from langgraph.graph.message import add_messages\n",
    "class ChatState(TypedDict):\n",
    "    messages:Annotated[list[BaseMessage],add_messages]"
   ]
  },
  {
   "cell_type": "code",
   "execution_count": 20,
   "id": "ddbd095e",
   "metadata": {},
   "outputs": [],
   "source": [
    "llm =ChatOpenAI(\n",
    "    model='deepseek/deepseek-chat-v3-0324:free',\n",
    "    api_key=os.environ['OPENROUTER_API_KEY'],\n",
    "    base_url='https://openrouter.ai/api/v1',\n",
    "    temperature=0.7\n",
    ")"
   ]
  },
  {
   "cell_type": "code",
   "execution_count": 21,
   "id": "aca9e805",
   "metadata": {},
   "outputs": [],
   "source": [
    "\n",
    "def chat_node(state:ChatState):\n",
    "    #take user query from state\n",
    "    messages=state['messages']\n",
    "\n",
    "    #send to LLM\n",
    "    response=llm.invoke(messages)\n",
    "\n",
    "    #store back in state and return \n",
    "    return {'messages':[response]}"
   ]
  },
  {
   "cell_type": "code",
   "execution_count": 38,
   "id": "7198001a",
   "metadata": {},
   "outputs": [],
   "source": [
    "checkpointer=MemorySaver()\n",
    "graph=StateGraph(ChatState)\n",
    "\n",
    "#add nodes\n",
    "graph.add_node('chat_node',chat_node)\n",
    "\n",
    "#add edges\n",
    "graph.add_edge(START,'chat_node')\n",
    "graph.add_edge('chat_node',END)\n",
    "\n",
    "chatbot=graph.compile(checkpointer=checkpointer)"
   ]
  },
  {
   "cell_type": "code",
   "execution_count": 27,
   "id": "97c7a5b5",
   "metadata": {},
   "outputs": [],
   "source": [
    "initial_state={\n",
    "    'messages':[HumanMessage(content='What is the capital of india?')]\n",
    "}"
   ]
  },
  {
   "cell_type": "code",
   "execution_count": 29,
   "id": "5b48ef5a",
   "metadata": {},
   "outputs": [
    {
     "data": {
      "text/plain": [
       "\"The capital of India is **New Delhi**. It is a part of the larger **National Capital Territory (NCT) of Delhi** and serves as the political and administrative center of the country. \\n\\n- **Key Facts**:\\n  - Houses important government buildings like the **Rashtrapati Bhavan** (President's residence), **Parliament of India**, and **Supreme Court**.\\n  - One of the most populous cities in India, blending modernity with rich history (e.g., monuments like the **Red Fort** and **India Gate**).\\n  - Established as the capital in **1911** during British rule, replacing Kolkata (then Calcutta).\\n\\nLet me know if you'd like more details!\""
      ]
     },
     "execution_count": 29,
     "metadata": {},
     "output_type": "execute_result"
    }
   ],
   "source": [
    "chatbot.invoke(initial_state)['messages'][-1].content"
   ]
  },
  {
   "cell_type": "code",
   "execution_count": null,
   "id": "d258db1b",
   "metadata": {},
   "outputs": [
    {
     "name": "stdout",
     "output_type": "stream",
     "text": [
      "hey my name is krish\n",
      "AI: Hey Krish! 👋 How's it going? What's on your mind today? 😊\n",
      "what is my name\n",
      "AI: Your name is **Krish**! (Unless you’re testing me… or secretly a shape-shifting AI in disguise. 🤖👀)  \n",
      "\n",
      "What’s up? Anything fun or interesting happening today? 😄\n",
      "\n",
      "AI:             😄 *Gasp* Did you just pull a classic *\"Wait, what's my name again?\"* test on me? Nice try, Krish—but I’ve got a **steel-trap memory** for introductions (or at least a 0.0001-second cache).  \n",
      "\n",
      "**Pro tip:** If you *actually* forget your name someday, just check your ID… or yell it in a Starbucks until someone writes it on a cup. ☕✨  \n",
      "\n",
      "Sooo… what’s the next mission? Philosophy? Memes? Life advice? 🔥\n",
      "bye\n"
     ]
    }
   ],
   "source": [
    "thread_id='1'\n",
    "while True:\n",
    "    user_message=input(\"Type Here:\")\n",
    "    print('User: 'user_message)\n",
    "\n",
    "    if user_message.strip().lower() in ['exit','bye','quit']:\n",
    "        break\n",
    "    config={'configurable':{'thread_id':thread_id}}\n",
    "    response=chatbot.invoke({'messages':[HumanMessage(content=user_message)]},config=config)\n",
    "    print('AI:',response['messages'][-1].content)\n"
   ]
  },
  {
   "cell_type": "code",
   "execution_count": null,
   "id": "f03321d1",
   "metadata": {},
   "outputs": [],
   "source": []
  }
 ],
 "metadata": {
  "kernelspec": {
   "display_name": "myenv",
   "language": "python",
   "name": "python3"
  },
  "language_info": {
   "codemirror_mode": {
    "name": "ipython",
    "version": 3
   },
   "file_extension": ".py",
   "mimetype": "text/x-python",
   "name": "python",
   "nbconvert_exporter": "python",
   "pygments_lexer": "ipython3",
   "version": "3.12.5"
  }
 },
 "nbformat": 4,
 "nbformat_minor": 5
}
